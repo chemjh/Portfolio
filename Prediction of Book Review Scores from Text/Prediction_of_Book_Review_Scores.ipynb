{
 "cells": [
  {
   "cell_type": "markdown",
   "id": "615d46bc",
   "metadata": {},
   "source": [
    "Name: John Herrick \\\n",
    "Course: DSC680 \\\n",
    "Date: 06/20/2023"
   ]
  },
  {
   "cell_type": "markdown",
   "id": "7a600946",
   "metadata": {},
   "source": [
    "I begin by importing likely useful modules."
   ]
  },
  {
   "cell_type": "code",
   "execution_count": 1,
   "id": "6689b0d1",
   "metadata": {},
   "outputs": [],
   "source": [
    "import pandas as pd\n",
    "import numpy as np\n",
    "import matplotlib.pyplot as plt\n",
    "from sklearn.model_selection import train_test_split, GridSearchCV\n",
    "import textblob\n",
    "from sklearn.ensemble import RandomForestClassifier\n",
    "from sklearn.pipeline import Pipeline\n",
    "from sklearn.metrics import accuracy_score, confusion_matrix, roc_curve, auc\n",
    "import seaborn as sns\n",
    "import joblib\n",
    "from sklearn.naive_bayes import MultinomialNB\n",
    "from sklearn.preprocessing import MinMaxScaler\n",
    "from imblearn.under_sampling import RandomUnderSampler"
   ]
  },
  {
   "cell_type": "markdown",
   "id": "8dd58407",
   "metadata": {},
   "source": [
    "I perform my initial data read."
   ]
  },
  {
   "cell_type": "code",
   "execution_count": 2,
   "id": "491fc017",
   "metadata": {},
   "outputs": [
    {
     "data": {
      "text/html": [
       "<div>\n",
       "<style scoped>\n",
       "    .dataframe tbody tr th:only-of-type {\n",
       "        vertical-align: middle;\n",
       "    }\n",
       "\n",
       "    .dataframe tbody tr th {\n",
       "        vertical-align: top;\n",
       "    }\n",
       "\n",
       "    .dataframe thead th {\n",
       "        text-align: right;\n",
       "    }\n",
       "</style>\n",
       "<table border=\"1\" class=\"dataframe\">\n",
       "  <thead>\n",
       "    <tr style=\"text-align: right;\">\n",
       "      <th></th>\n",
       "      <th>Id</th>\n",
       "      <th>Title</th>\n",
       "      <th>Price</th>\n",
       "      <th>User_id</th>\n",
       "      <th>profileName</th>\n",
       "      <th>review/helpfulness</th>\n",
       "      <th>review/score</th>\n",
       "      <th>review/time</th>\n",
       "      <th>review/summary</th>\n",
       "      <th>review/text</th>\n",
       "    </tr>\n",
       "  </thead>\n",
       "  <tbody>\n",
       "    <tr>\n",
       "      <th>0</th>\n",
       "      <td>1882931173</td>\n",
       "      <td>Its Only Art If Its Well Hung!</td>\n",
       "      <td>NaN</td>\n",
       "      <td>AVCGYZL8FQQTD</td>\n",
       "      <td>Jim of Oz \"jim-of-oz\"</td>\n",
       "      <td>7/7</td>\n",
       "      <td>4.0</td>\n",
       "      <td>940636800</td>\n",
       "      <td>Nice collection of Julie Strain images</td>\n",
       "      <td>This is only for Julie Strain fans. It's a col...</td>\n",
       "    </tr>\n",
       "    <tr>\n",
       "      <th>1</th>\n",
       "      <td>0826414346</td>\n",
       "      <td>Dr. Seuss: American Icon</td>\n",
       "      <td>NaN</td>\n",
       "      <td>A30TK6U7DNS82R</td>\n",
       "      <td>Kevin Killian</td>\n",
       "      <td>10/10</td>\n",
       "      <td>5.0</td>\n",
       "      <td>1095724800</td>\n",
       "      <td>Really Enjoyed It</td>\n",
       "      <td>I don't care much for Dr. Seuss but after read...</td>\n",
       "    </tr>\n",
       "    <tr>\n",
       "      <th>2</th>\n",
       "      <td>0826414346</td>\n",
       "      <td>Dr. Seuss: American Icon</td>\n",
       "      <td>NaN</td>\n",
       "      <td>A3UH4UZ4RSVO82</td>\n",
       "      <td>John Granger</td>\n",
       "      <td>10/11</td>\n",
       "      <td>5.0</td>\n",
       "      <td>1078790400</td>\n",
       "      <td>Essential for every personal and Public Library</td>\n",
       "      <td>If people become the books they read and if \"t...</td>\n",
       "    </tr>\n",
       "    <tr>\n",
       "      <th>3</th>\n",
       "      <td>0826414346</td>\n",
       "      <td>Dr. Seuss: American Icon</td>\n",
       "      <td>NaN</td>\n",
       "      <td>A2MVUWT453QH61</td>\n",
       "      <td>Roy E. Perry \"amateur philosopher\"</td>\n",
       "      <td>7/7</td>\n",
       "      <td>4.0</td>\n",
       "      <td>1090713600</td>\n",
       "      <td>Phlip Nel gives silly Seuss a serious treatment</td>\n",
       "      <td>Theodore Seuss Geisel (1904-1991), aka &amp;quot;D...</td>\n",
       "    </tr>\n",
       "    <tr>\n",
       "      <th>4</th>\n",
       "      <td>0826414346</td>\n",
       "      <td>Dr. Seuss: American Icon</td>\n",
       "      <td>NaN</td>\n",
       "      <td>A22X4XUPKF66MR</td>\n",
       "      <td>D. H. Richards \"ninthwavestore\"</td>\n",
       "      <td>3/3</td>\n",
       "      <td>4.0</td>\n",
       "      <td>1107993600</td>\n",
       "      <td>Good academic overview</td>\n",
       "      <td>Philip Nel - Dr. Seuss: American IconThis is b...</td>\n",
       "    </tr>\n",
       "  </tbody>\n",
       "</table>\n",
       "</div>"
      ],
      "text/plain": [
       "           Id                           Title  Price         User_id  \\\n",
       "0  1882931173  Its Only Art If Its Well Hung!    NaN   AVCGYZL8FQQTD   \n",
       "1  0826414346        Dr. Seuss: American Icon    NaN  A30TK6U7DNS82R   \n",
       "2  0826414346        Dr. Seuss: American Icon    NaN  A3UH4UZ4RSVO82   \n",
       "3  0826414346        Dr. Seuss: American Icon    NaN  A2MVUWT453QH61   \n",
       "4  0826414346        Dr. Seuss: American Icon    NaN  A22X4XUPKF66MR   \n",
       "\n",
       "                          profileName review/helpfulness  review/score  \\\n",
       "0               Jim of Oz \"jim-of-oz\"                7/7           4.0   \n",
       "1                       Kevin Killian              10/10           5.0   \n",
       "2                        John Granger              10/11           5.0   \n",
       "3  Roy E. Perry \"amateur philosopher\"                7/7           4.0   \n",
       "4     D. H. Richards \"ninthwavestore\"                3/3           4.0   \n",
       "\n",
       "   review/time                                   review/summary  \\\n",
       "0    940636800           Nice collection of Julie Strain images   \n",
       "1   1095724800                                Really Enjoyed It   \n",
       "2   1078790400  Essential for every personal and Public Library   \n",
       "3   1090713600  Phlip Nel gives silly Seuss a serious treatment   \n",
       "4   1107993600                           Good academic overview   \n",
       "\n",
       "                                         review/text  \n",
       "0  This is only for Julie Strain fans. It's a col...  \n",
       "1  I don't care much for Dr. Seuss but after read...  \n",
       "2  If people become the books they read and if \"t...  \n",
       "3  Theodore Seuss Geisel (1904-1991), aka &quot;D...  \n",
       "4  Philip Nel - Dr. Seuss: American IconThis is b...  "
      ]
     },
     "execution_count": 2,
     "metadata": {},
     "output_type": "execute_result"
    }
   ],
   "source": [
    "df = pd.read_csv(r\"C:\\Users\\ripva\\Desktop\\Masters degree stuff\\DSC680\\Data\\Book Reviews\\Books_rating.csv\")\n",
    "df.head()"
   ]
  },
  {
   "cell_type": "markdown",
   "id": "b114d188",
   "metadata": {},
   "source": [
    "At three million rows and ten columns, this data set is very large. Hopefully, this glut of data will allow to create a very optimized model."
   ]
  },
  {
   "cell_type": "code",
   "execution_count": 3,
   "id": "521199e1",
   "metadata": {},
   "outputs": [
    {
     "data": {
      "text/plain": [
       "(3000000, 10)"
      ]
     },
     "execution_count": 3,
     "metadata": {},
     "output_type": "execute_result"
    }
   ],
   "source": [
    "df.shape"
   ]
  },
  {
   "cell_type": "markdown",
   "id": "662dbb6e",
   "metadata": {},
   "source": [
    "I now examine the number of missing values, or NaN's, in my data."
   ]
  },
  {
   "cell_type": "code",
   "execution_count": 4,
   "id": "a833e2f4",
   "metadata": {},
   "outputs": [
    {
     "name": "stdout",
     "output_type": "stream",
     "text": [
      "Id NaN's = 0\n",
      "Title NaN's = 208\n",
      "Price NaN's = 2518829\n",
      "User_id NaN's = 561787\n",
      "profileName NaN's = 561886\n",
      "review/helpfulness NaN's = 0\n",
      "review/score NaN's = 0\n",
      "review/time NaN's = 0\n",
      "review/summary NaN's = 38\n",
      "review/text NaN's = 8\n"
     ]
    }
   ],
   "source": [
    "for col in df.columns:\n",
    "    print(f\"{col} NaN's = {df[col].isna().sum()}\")"
   ]
  },
  {
   "cell_type": "markdown",
   "id": "f3327847",
   "metadata": {},
   "source": [
    "I am only really interested in the columns \"review/helpfulness\", \"review/score\", \"review/summary\", and \"review/text\". For those columns, out of 3 million rows, I have at worst a total of 46 rows with missing values. Dropping those rows will not hurt my inquiry, and I shall do that next."
   ]
  },
  {
   "cell_type": "code",
   "execution_count": 5,
   "id": "e5e48f20",
   "metadata": {},
   "outputs": [
    {
     "name": "stdout",
     "output_type": "stream",
     "text": [
      "The length of my data frame with dropped NaN's is 2999954 rows.\n",
      "Id NaN's = 0\n",
      "Title NaN's = 208\n",
      "Price NaN's = 2518792\n",
      "User_id NaN's = 561771\n",
      "profileName NaN's = 561866\n",
      "review/helpfulness NaN's = 0\n",
      "review/score NaN's = 0\n",
      "review/time NaN's = 0\n",
      "review/summary NaN's = 0\n",
      "review/text NaN's = 0\n"
     ]
    }
   ],
   "source": [
    "# New dataframe is now only 46 rows shorter than it previously was and the columns I am interested in are free of NaN's.\n",
    "\n",
    "df = df[df['review/summary'].notna()]\n",
    "df = df[df['review/text'].notna()]\n",
    "print(f\"The length of my data frame with dropped NaN's is {len(df)} rows.\")\n",
    "\n",
    "for col in df.columns:\n",
    "    print(f\"{col} NaN's = {df[col].isna().sum()}\")"
   ]
  },
  {
   "cell_type": "markdown",
   "id": "86f24bcd",
   "metadata": {},
   "source": [
    "I write a custom function to strip the extraneous white spaces from the ends of the reviews and then apply it."
   ]
  },
  {
   "cell_type": "code",
   "execution_count": 6,
   "id": "9e8bcb3e",
   "metadata": {},
   "outputs": [],
   "source": [
    "def strip_func(review):\n",
    "    return str(review).strip()    "
   ]
  },
  {
   "cell_type": "code",
   "execution_count": 7,
   "id": "c061cbbc",
   "metadata": {},
   "outputs": [],
   "source": [
    "df['review/text'] = df['review/text'].apply(strip_func)"
   ]
  },
  {
   "cell_type": "markdown",
   "id": "e719f81a",
   "metadata": {},
   "source": [
    "The best place to start is to convert my text values into numerical values. I can do this using TextBlob's sentiment analyzer. The sentiment of a text attempts to represent whether the sentiment is positive or negative by converting it to a float value that can range from -1 to 1, with anything over zero being positive and anything under zero being negative. -1 is the strongest possible negative sentiment and 1 is the strongest possible positive sentiment. Before I can perform a sentiment analysis on the text I must perform transform the text into question into a blob object. I do that below, creating a new column to hold the converted review text."
   ]
  },
  {
   "cell_type": "code",
   "execution_count": 8,
   "id": "d9bfa8cf",
   "metadata": {},
   "outputs": [],
   "source": [
    "df['review/blob'] = df['review/text'].apply(lambda x: textblob.TextBlob(x))"
   ]
  },
  {
   "cell_type": "markdown",
   "id": "4837da08",
   "metadata": {},
   "source": [
    "Now I will carry out the very time-consuming process of converting the blob objects into sentiment scores. I create a new column to hold these scores for their associated reviews."
   ]
  },
  {
   "cell_type": "code",
   "execution_count": 14,
   "id": "cbd62274",
   "metadata": {},
   "outputs": [],
   "source": [
    "df.drop('profileName', inplace = True, axis = 1)"
   ]
  },
  {
   "cell_type": "code",
   "execution_count": null,
   "id": "2e5e3fff",
   "metadata": {},
   "outputs": [],
   "source": [
    "df['review/sentiment'] = df['review/blob'].apply(lambda x: x.sentiment.polarity)"
   ]
  },
  {
   "cell_type": "markdown",
   "id": "d67cb8d3",
   "metadata": {},
   "source": [
    "I am also interested to see how these sentiment scores compare to the actual review scores. In order to compare them I will have to bin the sentiment scores into 5 different categories so that they will be compatible with the 1-5 review scores scale. I create a custom function to carry this out and apply it."
   ]
  },
  {
   "cell_type": "code",
   "execution_count": null,
   "id": "fe1618c9",
   "metadata": {},
   "outputs": [],
   "source": [
    "def sent_score_converter(sentiment):\n",
    "    if sentiment >= 0.6:\n",
    "        return 5\n",
    "    elif 0.6 > sentiment >=0.2:\n",
    "        return 4\n",
    "    elif 0.2 > sentiment >= -0.2:\n",
    "        return 3\n",
    "    elif -0.2 > sentiment >= -0.6:\n",
    "        return 2\n",
    "    elif -0.6 > sentiment >= -1:\n",
    "        return 1\n",
    "    else:\n",
    "        print(f\"Error occured with {sentiment}.\")"
   ]
  },
  {
   "cell_type": "code",
   "execution_count": null,
   "id": "28bdcec6",
   "metadata": {},
   "outputs": [],
   "source": [
    "df['sentiment_score'] = df['review/sentiment'].apply(sent_score_converter)"
   ]
  },
  {
   "cell_type": "markdown",
   "id": "71472760",
   "metadata": {},
   "source": [
    "I now carry out the process of turning the review summaries into blob objects. I store these blob objects in a new column."
   ]
  },
  {
   "cell_type": "code",
   "execution_count": null,
   "id": "429e1ea2",
   "metadata": {},
   "outputs": [],
   "source": [
    "df['review/summary/blob'] = df['review/summary'].apply(lambda x: textblob.TextBlob(x))"
   ]
  },
  {
   "cell_type": "markdown",
   "id": "71453b2b",
   "metadata": {},
   "source": [
    "Having carried out the transformation of the review summaries text into blob objects, I now convert them into sentiment scores. I create a new column to keep these scores with their associated reviews."
   ]
  },
  {
   "cell_type": "code",
   "execution_count": null,
   "id": "6538c8a8",
   "metadata": {},
   "outputs": [],
   "source": [
    "df['review/summary/sentiment'] = df['review/summary/blob'].apply(lambda x: x.sentiment.polarity)"
   ]
  },
  {
   "cell_type": "markdown",
   "id": "76640ca3",
   "metadata": {},
   "source": [
    "In order to use the \"review/helpfulness\" column I must transform its values. As they exist presently they are merely string representations of arbitrary ratios (e.g., 1/3, 7/7, 4/5) and so, in order to use them, I will convert them into their decimal equivalents. I create a custom function below to split the string on '/', convert the two string representations of numbers into integers, and then carry out the division between those numbers. I follow up by applying it to my data and creating a new column to hold the resulting value. Due to a ZeroDivisionError emerging, I've had to catch that problem with a try/except block and I manually set the values that trigger this error to '0'."
   ]
  },
  {
   "cell_type": "code",
   "execution_count": null,
   "id": "bd904fc3",
   "metadata": {},
   "outputs": [],
   "source": [
    "def string_to_float_converter(score):\n",
    "    item, item2 = score.split('/')\n",
    "    try: \n",
    "        float_score = int(item)/int(item2)\n",
    "    except ZeroDivisionError:\n",
    "        float_score = 0\n",
    "    return float_score"
   ]
  },
  {
   "cell_type": "code",
   "execution_count": null,
   "id": "e1927f10",
   "metadata": {},
   "outputs": [],
   "source": [
    "df['review/helpfulness/float'] = df['review/helpfulness'].apply(string_to_float_converter)"
   ]
  },
  {
   "cell_type": "markdown",
   "id": "6091b229",
   "metadata": {},
   "source": [
    "Out of curiousity I examined just how many values scores divided by zero, and I also examined how many unique instances of this value there were. It turns out there was surprisingly only one unique value ('0/0'), but it did occur a staggering 885,715 times. This is actually fine, however, since 0 is a fine representation of the intentions of persons who give a score of '0/0', and so it does not distort the final score at all."
   ]
  },
  {
   "cell_type": "code",
   "execution_count": 16,
   "id": "fb940121",
   "metadata": {},
   "outputs": [
    {
     "name": "stdout",
     "output_type": "stream",
     "text": [
      "The total number of instances where divide by zero occurred was 885715.\n"
     ]
    }
   ],
   "source": [
    "div_by_zero_total = 0\n",
    "div_by_zero_list = []\n",
    "\n",
    "for score in df['review/helpfulness']:\n",
    "    item, item2 = score.split('/')\n",
    "    try: \n",
    "        float_score = int(item)/int(item2)\n",
    "    except ZeroDivisionError:\n",
    "        float_score = 0\n",
    "        div_by_zero_total += 1\n",
    "        div_by_zero_list.append(score)\n",
    "print(f\"The total number of instances where divide by zero occurred was {div_by_zero_total}.\")"
   ]
  },
  {
   "cell_type": "markdown",
   "id": "bf3f1bfc",
   "metadata": {},
   "source": [
    "Showing that there was only one unique value triggering this error, and that it was functionally equivalent to '0' for my purposes."
   ]
  },
  {
   "cell_type": "code",
   "execution_count": 17,
   "id": "00c09e26",
   "metadata": {},
   "outputs": [
    {
     "data": {
      "text/plain": [
       "{'0/0'}"
      ]
     },
     "execution_count": 17,
     "metadata": {},
     "output_type": "execute_result"
    }
   ],
   "source": [
    "set(div_by_zero_list)"
   ]
  },
  {
   "cell_type": "markdown",
   "id": "783ba8f5",
   "metadata": {},
   "source": [
    "Examining the distribution of mean review helpfulness decimal scores versus their associated review scores. This shows that they are fairly evenly distributed, at least as far as their mean values goes. This is interesting; apparently, reviews of all levels had similar degrees of mean utility to others."
   ]
  },
  {
   "cell_type": "code",
   "execution_count": 18,
   "id": "1613ad04",
   "metadata": {},
   "outputs": [
    {
     "data": {
      "text/plain": [
       "review/score\n",
       "1.0    0.421449\n",
       "2.0    0.448497\n",
       "3.0    0.437238\n",
       "4.0    0.486673\n",
       "5.0    0.513665\n",
       "Name: review/helpfulness/float, dtype: float64"
      ]
     },
     "execution_count": 18,
     "metadata": {},
     "output_type": "execute_result"
    }
   ],
   "source": [
    "df.groupby('review/score')['review/helpfulness/float'].mean()"
   ]
  },
  {
   "cell_type": "markdown",
   "id": "a1b4355f",
   "metadata": {},
   "source": [
    "Examining the total number of '0' review helpfulness scores and I find it to be quite high, though given the number of divide by zero scores I had earlier that isn't surprising."
   ]
  },
  {
   "cell_type": "code",
   "execution_count": 19,
   "id": "36881d8c",
   "metadata": {},
   "outputs": [
    {
     "data": {
      "text/plain": [
       "1109623"
      ]
     },
     "execution_count": 19,
     "metadata": {},
     "output_type": "execute_result"
    }
   ],
   "source": [
    "(df['review/helpfulness/float'] == 0).sum()"
   ]
  },
  {
   "cell_type": "markdown",
   "id": "b57b7731",
   "metadata": {},
   "source": [
    "Examining the spread of '0' review helpfulness decimal scores, I see that they are spread between the review scores in a distribution that strongly leans towards the higher end of the review score scale. Examining the graph, it looks as though it may be exponential. Once I start examining my other data distributions graphically I can see what this means."
   ]
  },
  {
   "cell_type": "code",
   "execution_count": 20,
   "id": "9447efb7",
   "metadata": {},
   "outputs": [
    {
     "data": {
      "text/plain": [
       "review/score\n",
       "1.0     34689\n",
       "2.0     37550\n",
       "3.0     92463\n",
       "4.0    238454\n",
       "5.0    706467\n",
       "Name: review/helpfulness/float, dtype: int64"
      ]
     },
     "execution_count": 20,
     "metadata": {},
     "output_type": "execute_result"
    }
   ],
   "source": [
    "df[df['review/helpfulness/float']==0].groupby('review/score')['review/helpfulness/float'].count()"
   ]
  },
  {
   "cell_type": "code",
   "execution_count": 21,
   "id": "4883016b",
   "metadata": {},
   "outputs": [
    {
     "data": {
      "image/png": "[encoded data removed]",
      "text/plain": [
       "<Figure size 432x288 with 1 Axes>"
      ]
     },
     "metadata": {
      "needs_background": "light"
     },
     "output_type": "display_data"
    }
   ],
   "source": [
    "plt.bar(df[df['review/helpfulness/float']==0].groupby('review/score')['review/helpfulness/float'].count().index\n",
    "        , df[df['review/helpfulness/float']==0].groupby('review/score')['review/helpfulness/float'].count(), \n",
    "        edgecolor = 'black')\n",
    "plt.xlabel('Review Score')\n",
    "plt.ylabel('Frequency of Review Helpfulness \\nScores Equal to Zero')\n",
    "plt.ticklabel_format(style = 'plain')\n",
    "plt.yticks(ticks = [100000, 200000, 300000, 400000, 500000, 600000, 700000], \n",
    "           labels = ['100,000', '200,000', '300,000', '400,000', '500,000', '600,000', '700,000'])\n",
    "plt.title(\"Histogram of Review Helpfulness Scores \\nEqual to Zero by Review Score\", size = 18)\n",
    "plt.show()"
   ]
  },
  {
   "cell_type": "markdown",
   "id": "8ddb99a2",
   "metadata": {},
   "source": [
    "Splitting my data into training, validation, and test chunks for future steps. The training block will be used for the bulk of the work, with validation existing only to allow for fine tuning of models or comparisons between models, and the testing block shall be held out until the end to demonstrate generalizable results. The split of the data is 0.5/0.25/0.25 for training/validation/testing respectively."
   ]
  },
  {
   "cell_type": "code",
   "execution_count": 15,
   "id": "90c6e545",
   "metadata": {},
   "outputs": [
    {
     "data": {
      "text/html": [
       "<div>\n",
       "<style scoped>\n",
       "    .dataframe tbody tr th:only-of-type {\n",
       "        vertical-align: middle;\n",
       "    }\n",
       "\n",
       "    .dataframe tbody tr th {\n",
       "        vertical-align: top;\n",
       "    }\n",
       "\n",
       "    .dataframe thead th {\n",
       "        text-align: right;\n",
       "    }\n",
       "</style>\n",
       "<table border=\"1\" class=\"dataframe\">\n",
       "  <thead>\n",
       "    <tr style=\"text-align: right;\">\n",
       "      <th></th>\n",
       "      <th>index</th>\n",
       "      <th>Id</th>\n",
       "      <th>Title</th>\n",
       "      <th>Price</th>\n",
       "      <th>User_id</th>\n",
       "      <th>review/helpfulness</th>\n",
       "      <th>review/time</th>\n",
       "      <th>review/summary</th>\n",
       "      <th>review/text</th>\n",
       "      <th>review/blob</th>\n",
       "      <th>review/sentiment</th>\n",
       "      <th>sentiment_score</th>\n",
       "      <th>review/summary/blob</th>\n",
       "      <th>review/summary/sentiment</th>\n",
       "      <th>review/helpfulness/float</th>\n",
       "    </tr>\n",
       "  </thead>\n",
       "  <tbody>\n",
       "    <tr>\n",
       "      <th>285371</th>\n",
       "      <td>285374</td>\n",
       "      <td>0262121417</td>\n",
       "      <td>Realistic Compiler Generation (Foundations of ...</td>\n",
       "      <td>NaN</td>\n",
       "      <td>A1YX0YVSHVYTCY</td>\n",
       "      <td>1/1</td>\n",
       "      <td>1072656000</td>\n",
       "      <td>Excellent book on a very complex subject.</td>\n",
       "      <td>This is a wonderful book. Perfectly balanced i...</td>\n",
       "      <td>(T, h, i, s,  , i, s,  , a,  , w, o, n, d, e, ...</td>\n",
       "      <td>0.326389</td>\n",
       "      <td>4</td>\n",
       "      <td>Excellent book on a very complex subject.</td>\n",
       "      <td>0.147778</td>\n",
       "      <td>1.0</td>\n",
       "    </tr>\n",
       "    <tr>\n",
       "      <th>2839272</th>\n",
       "      <td>2839317</td>\n",
       "      <td>B0000CJ9GZ</td>\n",
       "      <td>The richest man in Babylon</td>\n",
       "      <td>NaN</td>\n",
       "      <td>NaN</td>\n",
       "      <td>0/1</td>\n",
       "      <td>1000512000</td>\n",
       "      <td>Good basic personal finance.</td>\n",
       "      <td>Some good tips on building a nest egg and payi...</td>\n",
       "      <td>(S, o, m, e,  , g, o, o, d,  , t, i, p, s,  , ...</td>\n",
       "      <td>0.700000</td>\n",
       "      <td>5</td>\n",
       "      <td>Good basic personal finance.</td>\n",
       "      <td>0.233333</td>\n",
       "      <td>0.0</td>\n",
       "    </tr>\n",
       "    <tr>\n",
       "      <th>39092</th>\n",
       "      <td>39092</td>\n",
       "      <td>0738703125</td>\n",
       "      <td>How to be a Ghost Hunter (How To Series)</td>\n",
       "      <td>10.35</td>\n",
       "      <td>A1SSC4179O5I8G</td>\n",
       "      <td>0/0</td>\n",
       "      <td>1307577600</td>\n",
       "      <td>THIS IS A GOOD ONE..!!</td>\n",
       "      <td>A GOOD BOOK TO HAVE IF YOU ARE GHOST HUNTING, ...</td>\n",
       "      <td>(A,  , G, O, O, D,  , B, O, O, K,  , T, O,  , ...</td>\n",
       "      <td>0.475000</td>\n",
       "      <td>4</td>\n",
       "      <td>THIS IS A GOOD ONE..!!</td>\n",
       "      <td>1.000000</td>\n",
       "      <td>0.0</td>\n",
       "    </tr>\n",
       "    <tr>\n",
       "      <th>974288</th>\n",
       "      <td>974298</td>\n",
       "      <td>1566195683</td>\n",
       "      <td>The brothers Karamazov (Barnes &amp; Noble classics)</td>\n",
       "      <td>NaN</td>\n",
       "      <td>NaN</td>\n",
       "      <td>1/2</td>\n",
       "      <td>855100800</td>\n",
       "      <td>Don't Be Fooled By The &amp;quot;Classic&amp;quot; lab...</td>\n",
       "      <td>For every person who makes it a point to read ...</td>\n",
       "      <td>(F, o, r,  , e, v, e, r, y,  , p, e, r, s, o, ...</td>\n",
       "      <td>0.198810</td>\n",
       "      <td>3</td>\n",
       "      <td>Don't Be Fooled By The &amp;quot;Classic&amp;quot; lab...</td>\n",
       "      <td>0.000000</td>\n",
       "      <td>0.5</td>\n",
       "    </tr>\n",
       "    <tr>\n",
       "      <th>1207484</th>\n",
       "      <td>1207496</td>\n",
       "      <td>0670036102</td>\n",
       "      <td>Singing the Dogstar Blues</td>\n",
       "      <td>NaN</td>\n",
       "      <td>NaN</td>\n",
       "      <td>3/3</td>\n",
       "      <td>1075766400</td>\n",
       "      <td>Singing The Dogstar Blues</td>\n",
       "      <td>Aliens. Aliens from a distant planet have land...</td>\n",
       "      <td>(A, l, i, e, n, s, .,  , A, l, i, e, n, s,  , ...</td>\n",
       "      <td>0.071528</td>\n",
       "      <td>3</td>\n",
       "      <td>Singing The Dogstar Blues</td>\n",
       "      <td>0.000000</td>\n",
       "      <td>1.0</td>\n",
       "    </tr>\n",
       "  </tbody>\n",
       "</table>\n",
       "</div>"
      ],
      "text/plain": [
       "           index          Id  \\\n",
       "285371    285374  0262121417   \n",
       "2839272  2839317  B0000CJ9GZ   \n",
       "39092      39092  0738703125   \n",
       "974288    974298  1566195683   \n",
       "1207484  1207496  0670036102   \n",
       "\n",
       "                                                     Title  Price  \\\n",
       "285371   Realistic Compiler Generation (Foundations of ...    NaN   \n",
       "2839272                         The richest man in Babylon    NaN   \n",
       "39092             How to be a Ghost Hunter (How To Series)  10.35   \n",
       "974288    The brothers Karamazov (Barnes & Noble classics)    NaN   \n",
       "1207484                          Singing the Dogstar Blues    NaN   \n",
       "\n",
       "                User_id review/helpfulness  review/time  \\\n",
       "285371   A1YX0YVSHVYTCY                1/1   1072656000   \n",
       "2839272             NaN                0/1   1000512000   \n",
       "39092    A1SSC4179O5I8G                0/0   1307577600   \n",
       "974288              NaN                1/2    855100800   \n",
       "1207484             NaN                3/3   1075766400   \n",
       "\n",
       "                                            review/summary  \\\n",
       "285371           Excellent book on a very complex subject.   \n",
       "2839272                       Good basic personal finance.   \n",
       "39092                               THIS IS A GOOD ONE..!!   \n",
       "974288   Don't Be Fooled By The &quot;Classic&quot; lab...   \n",
       "1207484                          Singing The Dogstar Blues   \n",
       "\n",
       "                                               review/text  \\\n",
       "285371   This is a wonderful book. Perfectly balanced i...   \n",
       "2839272  Some good tips on building a nest egg and payi...   \n",
       "39092    A GOOD BOOK TO HAVE IF YOU ARE GHOST HUNTING, ...   \n",
       "974288   For every person who makes it a point to read ...   \n",
       "1207484  Aliens. Aliens from a distant planet have land...   \n",
       "\n",
       "                                               review/blob  review/sentiment  \\\n",
       "285371   (T, h, i, s,  , i, s,  , a,  , w, o, n, d, e, ...          0.326389   \n",
       "2839272  (S, o, m, e,  , g, o, o, d,  , t, i, p, s,  , ...          0.700000   \n",
       "39092    (A,  , G, O, O, D,  , B, O, O, K,  , T, O,  , ...          0.475000   \n",
       "974288   (F, o, r,  , e, v, e, r, y,  , p, e, r, s, o, ...          0.198810   \n",
       "1207484  (A, l, i, e, n, s, .,  , A, l, i, e, n, s,  , ...          0.071528   \n",
       "\n",
       "         sentiment_score                                review/summary/blob  \\\n",
       "285371                 4          Excellent book on a very complex subject.   \n",
       "2839272                5                       Good basic personal finance.   \n",
       "39092                  4                             THIS IS A GOOD ONE..!!   \n",
       "974288                 3  Don't Be Fooled By The &quot;Classic&quot; lab...   \n",
       "1207484                3                          Singing The Dogstar Blues   \n",
       "\n",
       "         review/summary/sentiment  review/helpfulness/float  \n",
       "285371                   0.147778                       1.0  \n",
       "2839272                  0.233333                       0.0  \n",
       "39092                    1.000000                       0.0  \n",
       "974288                   0.000000                       0.5  \n",
       "1207484                  0.000000                       1.0  "
      ]
     },
     "execution_count": 15,
     "metadata": {},
     "output_type": "execute_result"
    }
   ],
   "source": [
    "features = df.drop('review/score', axis = 1)\n",
    "target = df['review/score']\n",
    "features_train, features_val, target_train, target_val = train_test_split(features, \n",
    "                                                                                  target, \n",
    "                                                                                  test_size = 0.50, \n",
    "                                                                                  random_state = 1, \n",
    "                                                                                  stratify = target)\n",
    "features_val, features_holdout, target_val, target_holdout = train_test_split(features_val, target_val,\n",
    "                                                                              test_size = 0.5,\n",
    "                                                                              random_state = 1,\n",
    "                                                                              stratify = target_val)\n",
    "features_train.head()"
   ]
  },
  {
   "cell_type": "code",
   "execution_count": 16,
   "id": "0b9fa868",
   "metadata": {},
   "outputs": [
    {
     "data": {
      "text/html": [
       "<div>\n",
       "<style scoped>\n",
       "    .dataframe tbody tr th:only-of-type {\n",
       "        vertical-align: middle;\n",
       "    }\n",
       "\n",
       "    .dataframe tbody tr th {\n",
       "        vertical-align: top;\n",
       "    }\n",
       "\n",
       "    .dataframe thead th {\n",
       "        text-align: right;\n",
       "    }\n",
       "</style>\n",
       "<table border=\"1\" class=\"dataframe\">\n",
       "  <thead>\n",
       "    <tr style=\"text-align: right;\">\n",
       "      <th></th>\n",
       "      <th>review/score</th>\n",
       "    </tr>\n",
       "  </thead>\n",
       "  <tbody>\n",
       "    <tr>\n",
       "      <th>285371</th>\n",
       "      <td>4.0</td>\n",
       "    </tr>\n",
       "    <tr>\n",
       "      <th>2839272</th>\n",
       "      <td>5.0</td>\n",
       "    </tr>\n",
       "    <tr>\n",
       "      <th>39092</th>\n",
       "      <td>5.0</td>\n",
       "    </tr>\n",
       "    <tr>\n",
       "      <th>974288</th>\n",
       "      <td>5.0</td>\n",
       "    </tr>\n",
       "    <tr>\n",
       "      <th>1207484</th>\n",
       "      <td>4.0</td>\n",
       "    </tr>\n",
       "  </tbody>\n",
       "</table>\n",
       "</div>"
      ],
      "text/plain": [
       "         review/score\n",
       "285371            4.0\n",
       "2839272           5.0\n",
       "39092             5.0\n",
       "974288            5.0\n",
       "1207484           4.0"
      ]
     },
     "execution_count": 16,
     "metadata": {},
     "output_type": "execute_result"
    }
   ],
   "source": [
    "# Converting target_train data into a single-column dataframe.\n",
    "\n",
    "target_train = pd.DataFrame(target_train)\n",
    "target_train.head()"
   ]
  },
  {
   "cell_type": "markdown",
   "id": "989829ef",
   "metadata": {},
   "source": [
    "# Graphical Analysis of my Features and Target {-}"
   ]
  },
  {
   "cell_type": "markdown",
   "id": "ee5b5228",
   "metadata": {},
   "source": [
    "The following visualizations in this section, where not specifically noted, are for the entirety of my dataset, not just one particular partition (i.e., training, validation, or testing). I begin by graphically examining the distribution of my target data: review scores. Per the frequency distribution below, the graph skews heavily towards higher values, with the result of 5 being more than half of all values."
   ]
  },
  {
   "cell_type": "code",
   "execution_count": 24,
   "id": "3b99e886",
   "metadata": {},
   "outputs": [
    {
     "data": {
      "text/plain": [
       "5.0    1807315\n",
       "4.0     585606\n",
       "3.0     254293\n",
       "1.0     201687\n",
       "2.0     151053\n",
       "Name: review/score, dtype: int64"
      ]
     },
     "execution_count": 24,
     "metadata": {},
     "output_type": "execute_result"
    }
   ],
   "source": [
    "df['review/score'].value_counts()"
   ]
  },
  {
   "cell_type": "code",
   "execution_count": 25,
   "id": "38b2b15a",
   "metadata": {},
   "outputs": [
    {
     "data": {
      "image/png": "[encoded data removed]",
      "text/plain": [
       "<Figure size 432x288 with 1 Axes>"
      ]
     },
     "metadata": {
      "needs_background": "light"
     },
     "output_type": "display_data"
    }
   ],
   "source": [
    "# In order to get the bars to line up over the xticks, I decided to create a bar graph that showed the value counts per \n",
    "# value for the review scores.\n",
    "\n",
    "plt.bar([5,4,3,1,2], df['review/score'].value_counts(), edgecolor = 'black')\n",
    "plt.title(\"Frequency Distribution for Review Scores\", size = 18)\n",
    "plt.xlabel('Review Score')\n",
    "plt.ylabel('Frequency')\n",
    "plt.ticklabel_format(style = 'plain')\n",
    "plt.yticks(ticks = [250000, 500000, 750000, 1000000, 1250000, 1500000, 1750000], \n",
    "          labels = ['250,000', '500,000', '750,000', '1,000,000', '1,250,000', '1,500,000', '1,750,000'])\n",
    "plt.show()"
   ]
  },
  {
   "cell_type": "markdown",
   "id": "b80380ea",
   "metadata": {},
   "source": [
    "Below I check to ensure the distribution of the target data in the training block roughly approximates the distribution in the overall dataset. It does."
   ]
  },
  {
   "cell_type": "code",
   "execution_count": 26,
   "id": "c43643d5",
   "metadata": {},
   "outputs": [
    {
     "data": {
      "text/plain": [
       "review/score\n",
       "5.0             903658\n",
       "4.0             292803\n",
       "3.0             127146\n",
       "1.0             100843\n",
       "2.0              75527\n",
       "dtype: int64"
      ]
     },
     "execution_count": 26,
     "metadata": {},
     "output_type": "execute_result"
    }
   ],
   "source": [
    "target_train.value_counts()"
   ]
  },
  {
   "cell_type": "code",
   "execution_count": 27,
   "id": "b424ec4e",
   "metadata": {},
   "outputs": [
    {
     "data": {
      "image/png": "[encoded data removed]",
      "text/plain": [
       "<Figure size 432x288 with 1 Axes>"
      ]
     },
     "metadata": {
      "needs_background": "light"
     },
     "output_type": "display_data"
    }
   ],
   "source": [
    "plt.bar([5,4,3,1,2], target_train.value_counts(), edgecolor = 'black')\n",
    "plt.title(\"Frequency Distribution for Review Scores\", size = 18)\n",
    "plt.xlabel('Review Score')\n",
    "plt.ylabel('Frequency')\n",
    "plt.ticklabel_format(style = 'plain')\n",
    "plt.yticks(ticks = [200000, 400000, 600000, 800000], labels = ['200,000', '400,000', '600,000', '800,000'])\n",
    "plt.show()"
   ]
  },
  {
   "cell_type": "markdown",
   "id": "dab4c25a",
   "metadata": {},
   "source": [
    "Below, I check to see if the text reviews converted by TextBlob into sentiment scores match the above distributions. The actual sentiment scores were actually floats ranging from -1.0 to 1.0; in order to create scores that were in the 1-5 ranking scale, I simply divided the sentiment score range into five equal bins and assigned the score of 1-5 based on which bin the sentiment score fell into. As can be seen, the distribution drastically over-represents categories '3' and '4', severly under-represents category '5', and somewhat under-represents all other categories. This very simplistic model does not seem to be very accurate, though I'll compute an actual accuracy score on this later."
   ]
  },
  {
   "cell_type": "code",
   "execution_count": 28,
   "id": "239e2fea",
   "metadata": {},
   "outputs": [
    {
     "data": {
      "text/plain": [
       "3    1506631\n",
       "4    1337029\n",
       "5     111623\n",
       "2      40724\n",
       "1       3947\n",
       "Name: sentiment_score, dtype: int64"
      ]
     },
     "execution_count": 28,
     "metadata": {},
     "output_type": "execute_result"
    }
   ],
   "source": [
    "df['sentiment_score'].value_counts()"
   ]
  },
  {
   "cell_type": "code",
   "execution_count": 29,
   "id": "2caade2c",
   "metadata": {},
   "outputs": [
    {
     "data": {
      "image/png": "[encoded data removed]",
      "text/plain": [
       "<Figure size 432x288 with 1 Axes>"
      ]
     },
     "metadata": {
      "needs_background": "light"
     },
     "output_type": "display_data"
    }
   ],
   "source": [
    "plt.bar([3,4,5,2,1], df['sentiment_score'].value_counts(), edgecolor = 'black')\n",
    "plt.title(\"Frequency Distribution for TextBlob Review Scores\", size = 18)\n",
    "plt.xlabel('Review Score')\n",
    "plt.ylabel('Frequency')\n",
    "plt.ticklabel_format(style = 'plain')\n",
    "plt.yticks(ticks = [200000, 400000, 600000, 800000, 1000000, 1200000, 1400000], \n",
    "           labels = ['200,000', '400,000', '600,000', '800,000', '1000000', '1,200,000', '1,400,000'])\n",
    "plt.show()"
   ]
  },
  {
   "cell_type": "markdown",
   "id": "52ec67b1",
   "metadata": {},
   "source": [
    "The sentiment scores, when not binned into one of five chunks, still maintains a similar distribution though with obviously greater granularity in their resolution. It seems to strongly favor slightly to somewhat favorable reviews (hence its earlier over-represenation of the '3' and '4' categories), with a positive mean. The majority of the values are focused in the aforementioned categories, thus causing the graph to be strongly leptokurtic."
   ]
  },
  {
   "cell_type": "code",
   "execution_count": 30,
   "id": "deb5de3a",
   "metadata": {},
   "outputs": [
    {
     "data": {
      "text/plain": [
       "count    2.999954e+06\n",
       "mean     2.104707e-01\n",
       "std      1.945261e-01\n",
       "min     -1.000000e+00\n",
       "25%      9.634522e-02\n",
       "50%      1.931902e-01\n",
       "75%      3.100000e-01\n",
       "max      1.000000e+00\n",
       "Name: review/sentiment, dtype: float64"
      ]
     },
     "execution_count": 30,
     "metadata": {},
     "output_type": "execute_result"
    }
   ],
   "source": [
    "df['review/sentiment'].describe()"
   ]
  },
  {
   "cell_type": "code",
   "execution_count": 31,
   "id": "57bb6e87",
   "metadata": {},
   "outputs": [
    {
     "data": {
      "image/png": "[encoded data removed]",
      "text/plain": [
       "<Figure size 432x288 with 1 Axes>"
      ]
     },
     "metadata": {
      "needs_background": "light"
     },
     "output_type": "display_data"
    }
   ],
   "source": [
    "plt.hist(df['review/sentiment'], edgecolor = 'black')\n",
    "plt.ylabel('Frequency')\n",
    "plt.xlabel('Sentiment Score')\n",
    "plt.ticklabel_format(style = 'plain')\n",
    "plt.yticks(ticks = [200000, 400000, 600000, 800000, 1000000, 1200000], \n",
    "           labels = ['200,000', '400,000', '600,000', '800,000', '1000000', '1,200,000'])\n",
    "plt.title(\"Histogram of Review Sentiment Scores\", size = 18)\n",
    "plt.show()"
   ]
  },
  {
   "cell_type": "markdown",
   "id": "5de4c250",
   "metadata": {},
   "source": [
    "The following graph examines the TextBlob sentiment score distributions for the 'review/summary' column. This column contains a \"too long didn't read\" (TLDR) version of the actual text review. As can be seen, this distribution is unlike the others in that it tends to show an almost linear positive slop throughout except for the obvious surge of values in the center of the graph. This shows that the review summaries carry a different type of sentiment information than the textual reviews themselves. This will have its mean on the positive side of the spectrum, showing a tendancy for favoring positive sentiments."
   ]
  },
  {
   "cell_type": "code",
   "execution_count": 32,
   "id": "765ffe36",
   "metadata": {},
   "outputs": [
    {
     "data": {
      "text/plain": [
       "count    2.999954e+06\n",
       "mean     2.489615e-01\n",
       "std      4.061598e-01\n",
       "min     -1.000000e+00\n",
       "25%      0.000000e+00\n",
       "50%      8.333333e-02\n",
       "75%      5.000000e-01\n",
       "max      1.000000e+00\n",
       "Name: review/summary/sentiment, dtype: float64"
      ]
     },
     "execution_count": 32,
     "metadata": {},
     "output_type": "execute_result"
    }
   ],
   "source": [
    "df['review/summary/sentiment'].describe()"
   ]
  },
  {
   "cell_type": "code",
   "execution_count": 33,
   "id": "377d96e6",
   "metadata": {},
   "outputs": [
    {
     "data": {
      "image/png": "[encoded data removed]",
      "text/plain": [
       "<Figure size 432x288 with 1 Axes>"
      ]
     },
     "metadata": {
      "needs_background": "light"
     },
     "output_type": "display_data"
    }
   ],
   "source": [
    "plt.hist(df['review/summary/sentiment'], edgecolor = 'black')\n",
    "plt.ylabel('Frequency')\n",
    "plt.xlabel('Sentiment Score')\n",
    "plt.ticklabel_format(style = 'plain')\n",
    "plt.yticks(ticks = [200000, 400000, 600000, 800000, 1000000, 1200000, 1400000], \n",
    "           labels = ['200,000', '400,000', '600,000', '800,000', '1000000', '1,200,000', '1,400,000'])\n",
    "plt.title(\"Histogram of Review Summary Sentiment Scores\", size = 18)\n",
    "plt.show()"
   ]
  },
  {
   "cell_type": "markdown",
   "id": "d81986b0",
   "metadata": {},
   "source": [
    "The next and final graph shows the distribution of the review helpfulness scores. For every review there is a colum that allows users to input a numbered ratio to express how useful the review was. Since there was no standard for the denominator in these ratios (e.g., 7/8, 3/4, 5/5) I used a custom function to split the ratios on the '/' character, convert the string representations of numbers into integers, and then carried out the division implied by the ratio to create a single float value to allow for direct comparison between these scores. Although one would assume that the best score would be '1' given that any ratio score mechanism would allow for only as many points as there were to give in the scale (i.e., 5 out of 5 stars or 5/5), it would seem that some users decided to allow for larger numerators than the denominators they gave. These occurrunces are sufficiently rare that although their presence pulls the x-axis of the graph to the right, there doesn't seem to be enough of them to register as visible bars. It seems like the most common score for a review is one that is considered to be unhelpful, followed next by reviews that are considered very helpful, and then a moderate distribution of values in between (the absurdly high values don't factor in as they are so few they don't even register visually on the graph). This preponderance of low scores is in part due to the large number of '0/0' scores I found earlier, which actually make up approximately three quarters of value-counts in the largest bar in graph below."
   ]
  },
  {
   "cell_type": "code",
   "execution_count": 34,
   "id": "42f50c5f",
   "metadata": {},
   "outputs": [
    {
     "data": {
      "text/plain": [
       "count    2.999954e+06\n",
       "mean     4.924365e-01\n",
       "std      4.309185e-01\n",
       "min      0.000000e+00\n",
       "25%      0.000000e+00\n",
       "50%      5.000000e-01\n",
       "75%      1.000000e+00\n",
       "max      3.000000e+00\n",
       "Name: review/helpfulness/float, dtype: float64"
      ]
     },
     "execution_count": 34,
     "metadata": {},
     "output_type": "execute_result"
    }
   ],
   "source": [
    "df['review/helpfulness/float'].describe()"
   ]
  },
  {
   "cell_type": "code",
   "execution_count": 35,
   "id": "02e9333c",
   "metadata": {},
   "outputs": [
    {
     "data": {
      "image/png": "[encoded data removed]",
      "text/plain": [
       "<Figure size 432x288 with 1 Axes>"
      ]
     },
     "metadata": {
      "needs_background": "light"
     },
     "output_type": "display_data"
    }
   ],
   "source": [
    "plt.hist(df['review/helpfulness/float'], edgecolor = 'black')\n",
    "plt.xlabel('Helpfulness Score')\n",
    "plt.ylabel('Frequency')\n",
    "plt.ticklabel_format(style = 'plain')\n",
    "plt.yticks(ticks = [200000, 400000, 600000, 800000, 1000000, 1200000], \n",
    "           labels = ['200,000', '400,000', '600,000', '800,000', '1000000', '1,200,000'])\n",
    "plt.title(\"Histogram of Review Helpfulness Scores\", size = 18)\n",
    "plt.show()"
   ]
  },
  {
   "cell_type": "markdown",
   "id": "8b2e949b",
   "metadata": {},
   "source": [
    "Before I begin assessing the data with more rigorous models, I will first assess the raw accuracy of the TextBlob sentiment scores as converted to a 1-5 review score scale. As can be seen, it is very low."
   ]
  },
  {
   "cell_type": "code",
   "execution_count": 36,
   "id": "8bdef1e5",
   "metadata": {},
   "outputs": [
    {
     "name": "stdout",
     "output_type": "stream",
     "text": [
      "The accuracy of the TextBlob sentiments as converted to a 1-5 score is 17.44%.\n"
     ]
    }
   ],
   "source": [
    "print(f\"The accuracy of the TextBlob sentiments as converted to a 1-5 score is \"\\\n",
    "      f\"{round(accuracy_score(features_train['sentiment_score'], target_train)*100, 2)}%.\")"
   ]
  },
  {
   "cell_type": "markdown",
   "id": "c245a20b",
   "metadata": {},
   "source": [
    "I now create my desired feature set, which is only the numerical columns derived from the TextBlob analysis of the textual reviews, their summaries, and the numerical conversion of helpfulness scores into decimal values. I left out the TextBlob sentiment scores as converted to a 1-5 score scale as that was simply converting high resolution data to low resolution data and so would not help me. "
   ]
  },
  {
   "cell_type": "markdown",
   "id": "f04c0ce6",
   "metadata": {},
   "source": [
    "# Model Creation {-}"
   ]
  },
  {
   "cell_type": "code",
   "execution_count": 17,
   "id": "4d5d40af",
   "metadata": {},
   "outputs": [],
   "source": [
    "features_train_textblob = features_train[['review/sentiment', \n",
    "                                          'review/summary/sentiment', \n",
    "                                          'review/helpfulness/float']]\n",
    "features_val_textblob = features_val[['review/sentiment', \n",
    "                                      'review/summary/sentiment', \n",
    "                                      'review/helpfulness/float']]\n",
    "features_holdout_textblob = features_holdout[['review/sentiment', \n",
    "                                              'review/summary/sentiment', \n",
    "                                              'review/helpfulness/float']]"
   ]
  },
  {
   "cell_type": "markdown",
   "id": "aed436ef",
   "metadata": {},
   "source": [
    "I create a pipeline to assess a random forest classifier as a means of prediction that can outperform the TextBlob sentiment scores converted to a 1-5 score scale. I try out several n_estimators, and given the staggering size of my data I have lowered the number of cv partitions from my usual 5 to 4 to avoid running into a memory error (this has occurred several times throughout my work due to the large number of rows I am working with). I also had to remove the n_jobs = -1 parameter as that was causing memory errors as well. Without setting n_jobs to -1, that's all the more reason to cut down on the cross validation partitions as the run-time is already going to be lengthy."
   ]
  },
  {
   "cell_type": "code",
   "execution_count": 38,
   "id": "2b4260c2",
   "metadata": {
    "scrolled": false
   },
   "outputs": [
    {
     "data": {
      "text/plain": [
       "{'memory': None,\n",
       " 'steps': [('classifier',\n",
       "   RandomForestClassifier(max_features='sqrt', n_estimators=300, random_state=1))],\n",
       " 'verbose': False,\n",
       " 'classifier': RandomForestClassifier(max_features='sqrt', n_estimators=300, random_state=1),\n",
       " 'classifier__bootstrap': True,\n",
       " 'classifier__ccp_alpha': 0.0,\n",
       " 'classifier__class_weight': None,\n",
       " 'classifier__criterion': 'gini',\n",
       " 'classifier__max_depth': None,\n",
       " 'classifier__max_features': 'sqrt',\n",
       " 'classifier__max_leaf_nodes': None,\n",
       " 'classifier__max_samples': None,\n",
       " 'classifier__min_impurity_decrease': 0.0,\n",
       " 'classifier__min_samples_leaf': 1,\n",
       " 'classifier__min_samples_split': 2,\n",
       " 'classifier__min_weight_fraction_leaf': 0.0,\n",
       " 'classifier__n_estimators': 300,\n",
       " 'classifier__n_jobs': None,\n",
       " 'classifier__oob_score': False,\n",
       " 'classifier__random_state': 1,\n",
       " 'classifier__verbose': 0,\n",
       " 'classifier__warm_start': False}"
      ]
     },
     "execution_count": 38,
     "metadata": {},
     "output_type": "execute_result"
    }
   ],
   "source": [
    "pipe = Pipeline([('classifier', RandomForestClassifier(random_state = 1))])\n",
    "\n",
    "search_space = [{'classifier': [RandomForestClassifier(random_state =1)],\n",
    "                'classifier__n_estimators': [100, 200, 250, 300, 350], \n",
    "                'classifier__max_features': ['sqrt']}]\n",
    "classifier = GridSearchCV(pipe, search_space, cv = 4).fit(features_train_textblob, target_train.values.ravel())\n",
    "classifier.best_estimator_.get_params()"
   ]
  },
  {
   "cell_type": "code",
   "execution_count": 39,
   "id": "70f9b0c0",
   "metadata": {},
   "outputs": [
    {
     "name": "stdout",
     "output_type": "stream",
     "text": [
      "The accuracy of the random forest classifier with only an initial tuning of the n_estimators hyperparameter was 89.69%.\n"
     ]
    }
   ],
   "source": [
    "# The accuracy of the model on the training data was as follows.\n",
    "\n",
    "results_blob = classifier.predict(features_train_textblob)\n",
    "print(f\"The accuracy of the random forest classifier with only an initial tuning of the n_estimators hyperparameter was \"\\\n",
    "      f\"{round(accuracy_score(results_blob, target_train)*100, 2)}%.\")"
   ]
  },
  {
   "cell_type": "markdown",
   "id": "e6d20c67",
   "metadata": {},
   "source": [
    "I wanted to examine just how the model was achieving its accuracy numbers, and we see below that for all predicted values other than '5' the model is very accurate with a slight preference for predicting '5' over other values, but given that the data was imbalanced towards review scores of '5' this is not surprising. Even this slight imbalance in the predictions of the model is neglible given the magnitude of its correct and incorrect predictions with these values. When it comes to predictions of '5', however, we see that while it is extremely accurate, the highest category of its misses in this category are for the adjancent value of '4', which is to say that when it does miss it doesn't tend to miss by much. Of the remaining three categories for mis-predictions when it comes to predicting the value of '5', we see that it favors '3' as its next most favored value, which makes sense as that is closer to '5' than its other options at that point, and then it splits its errors fairly evently between '1' and '2'. "
   ]
  },
  {
   "cell_type": "code",
   "execution_count": 40,
   "id": "00b186ca",
   "metadata": {},
   "outputs": [
    {
     "data": {
      "image/png": "[encoded data removed]",
      "text/plain": [
       "<Figure size 432x288 with 1 Axes>"
      ]
     },
     "metadata": {
      "needs_background": "light"
     },
     "output_type": "display_data"
    }
   ],
   "source": [
    "class_names = [1,2,3,4,5]\n",
    "\n",
    "target_predicted = classifier.predict(features_train_textblob)\n",
    "\n",
    "matrix = confusion_matrix(target_train, target_predicted)\n",
    "\n",
    "dataframe = pd.DataFrame(matrix, index = class_names, columns = class_names)\n",
    "\n",
    "sns.heatmap(dataframe, annot = True, cbar = None, cmap ='Blues', fmt = 'g')\n",
    "plt.title(\"Confusion Matrix\"), plt.tight_layout(),\n",
    "plt.ylabel(\"True Class\"), plt.xlabel(\"Predicted Class\")\n",
    "plt.show()"
   ]
  },
  {
   "cell_type": "code",
   "execution_count": 41,
   "id": "2b0a429a",
   "metadata": {},
   "outputs": [
    {
     "name": "stdout",
     "output_type": "stream",
     "text": [
      "The accuracy of the random forest classifier model on the validation data is 66.39%.\n"
     ]
    }
   ],
   "source": [
    "# Checking the accuracy of the model on the validation data set.\n",
    "\n",
    "results_val = classifier.predict(features_val_textblob)\n",
    "accuracy_val = accuracy_score(results_val, target_val)\n",
    "print(f\"The accuracy of the random forest classifier model on the validation data is {round(accuracy_val *100, 2)}%.\")"
   ]
  },
  {
   "cell_type": "markdown",
   "id": "76268b15",
   "metadata": {},
   "source": [
    "Although my validation data accuracy is not as high as I would like, it is still better than the accuracy achievable by baseline guessing (i.e., guessing all values were the dominant class, '5'). In the next cell I create a confusion matrix for this data, and find that the accuracy across the board is diminished, with a tendancy to favor \"5\"s when selecting the wrong value. Given the imbalance in the dataset this is not very suprising. "
   ]
  },
  {
   "cell_type": "code",
   "execution_count": 42,
   "id": "0d937cf7",
   "metadata": {},
   "outputs": [
    {
     "data": {
      "image/png": "[encoded data removed]",
      "text/plain": [
       "<Figure size 432x288 with 1 Axes>"
      ]
     },
     "metadata": {
      "needs_background": "light"
     },
     "output_type": "display_data"
    }
   ],
   "source": [
    "# Creating a confusion matrix for the results of applying the model to the validation data.\n",
    "\n",
    "target_predicted_val = classifier.predict(features_val_textblob)\n",
    "\n",
    "matrix = confusion_matrix(target_val, target_predicted_val)\n",
    "\n",
    "data_frame = pd.DataFrame(matrix, index = class_names, columns = class_names)\n",
    "sns.heatmap(data_frame, annot = True, cmap = 'Blues', cbar = None, fmt = 'g')\n",
    "plt.title(\"Confusion Matrix\"), plt.tight_layout()\n",
    "plt.ylabel(\"True Class\")\n",
    "plt.xlabel(\"Predicted Class\")\n",
    "plt.show()"
   ]
  },
  {
   "cell_type": "markdown",
   "id": "da40d9bb",
   "metadata": {},
   "source": [
    "Given that model performs so much better on the training data than the validation data, it seems that my model is overfit. It may be the case that the complexity of linguistic data is more than my model can grapple with at high levels of accuracy, but it may also be the case that the random forest classifier has simply allowed itself to grow too deep. In the following cells I try to iteratively optimize my model based on tree depth. I would ordinarily simply add the max depth to the grid search, but with the memory issues I'm experienceing I may have to do this one step at a time with an isolated grid search each time."
   ]
  },
  {
   "cell_type": "markdown",
   "id": "2f983532",
   "metadata": {},
   "source": [
    "Before I iterate over the models, I demonstrate the mean depths of a random forest classifier with the pertinent hyperparameters, which guides my selection of different max depths to try."
   ]
  },
  {
   "cell_type": "code",
   "execution_count": 27,
   "id": "fb4dde09",
   "metadata": {},
   "outputs": [],
   "source": [
    "rf = RandomForestClassifier(n_estimators = 300)\n",
    "model = rf.fit(features_train_textblob, target_train.values.ravel())"
   ]
  },
  {
   "cell_type": "code",
   "execution_count": 28,
   "id": "5f359160",
   "metadata": {},
   "outputs": [
    {
     "name": "stdout",
     "output_type": "stream",
     "text": [
      "The mean tree depth in the random forest classifier is 98.54666666666667.\n"
     ]
    }
   ],
   "source": [
    "depths = [tree.tree_.max_depth for tree in model.estimators_]\n",
    "total = 0\n",
    "for item in depths:\n",
    "    total+=item\n",
    "print(f\"The mean tree depth in the random forest classifier is {total/len(depths)}.\")    "
   ]
  },
  {
   "cell_type": "code",
   "execution_count": 18,
   "id": "1a7438ab",
   "metadata": {},
   "outputs": [
    {
     "data": {
      "text/plain": [
       "{'memory': None,\n",
       " 'steps': [('classifier',\n",
       "   RandomForestClassifier(max_depth=8, max_features='sqrt', n_estimators=350,\n",
       "                          random_state=1))],\n",
       " 'verbose': False,\n",
       " 'classifier': RandomForestClassifier(max_depth=8, max_features='sqrt', n_estimators=350,\n",
       "                        random_state=1),\n",
       " 'classifier__bootstrap': True,\n",
       " 'classifier__ccp_alpha': 0.0,\n",
       " 'classifier__class_weight': None,\n",
       " 'classifier__criterion': 'gini',\n",
       " 'classifier__max_depth': 8,\n",
       " 'classifier__max_features': 'sqrt',\n",
       " 'classifier__max_leaf_nodes': None,\n",
       " 'classifier__max_samples': None,\n",
       " 'classifier__min_impurity_decrease': 0.0,\n",
       " 'classifier__min_samples_leaf': 1,\n",
       " 'classifier__min_samples_split': 2,\n",
       " 'classifier__min_weight_fraction_leaf': 0.0,\n",
       " 'classifier__n_estimators': 350,\n",
       " 'classifier__n_jobs': None,\n",
       " 'classifier__oob_score': False,\n",
       " 'classifier__random_state': 1,\n",
       " 'classifier__verbose': 0,\n",
       " 'classifier__warm_start': False}"
      ]
     },
     "execution_count": 18,
     "metadata": {},
     "output_type": "execute_result"
    }
   ],
   "source": [
    "pipe = Pipeline([('classifier', RandomForestClassifier(random_state = 1))])\n",
    "\n",
    "search_space = [{'classifier': [RandomForestClassifier(random_state =1)],\n",
    "                'classifier__n_estimators': [100, 200, 250, 300, 350], \n",
    "                'classifier__max_features': ['sqrt'],\n",
    "                'classifier__max_depth': [8]}]\n",
    "classifier2 = GridSearchCV(pipe, search_space, cv = 4).fit(features_train_textblob, target_train.values.ravel())\n",
    "classifier2.best_estimator_.get_params()"
   ]
  },
  {
   "cell_type": "code",
   "execution_count": 22,
   "id": "a15f63b0",
   "metadata": {},
   "outputs": [
    {
     "name": "stdout",
     "output_type": "stream",
     "text": [
      "The accuracy of the random forest classifier with a max depth of 8 was 62.34%.\n"
     ]
    }
   ],
   "source": [
    "results2 = classifier2.predict(features_train_textblob)\n",
    "print(f\"The accuracy of the random forest classifier with a max depth of 8 was \"\\\n",
    "      f\"{round(accuracy_score(results2, target_train)*100, 2)}%.\")"
   ]
  },
  {
   "cell_type": "code",
   "execution_count": 23,
   "id": "6de4feec",
   "metadata": {},
   "outputs": [
    {
     "name": "stdout",
     "output_type": "stream",
     "text": [
      "The accuracy of the random forest classifier with a max depth of 8 was 62.27%.\n"
     ]
    }
   ],
   "source": [
    "results_val2 = classifier2.predict(features_val_textblob)\n",
    "print(f\"The accuracy of the random forest classifier with a max depth of 8 was \"\\\n",
    "      f\"{round(accuracy_score(results_val2, target_val)*100, 2)}%.\")"
   ]
  },
  {
   "cell_type": "markdown",
   "id": "d21bcec9",
   "metadata": {},
   "source": [
    "In the next iteration I try increasing the max depth to 50 to see how that impacts the results."
   ]
  },
  {
   "cell_type": "code",
   "execution_count": 20,
   "id": "8a11602f",
   "metadata": {},
   "outputs": [
    {
     "data": {
      "text/plain": [
       "{'memory': None,\n",
       " 'steps': [('classifier',\n",
       "   RandomForestClassifier(max_depth=50, max_features='sqrt', n_estimators=300,\n",
       "                          random_state=1))],\n",
       " 'verbose': False,\n",
       " 'classifier': RandomForestClassifier(max_depth=50, max_features='sqrt', n_estimators=300,\n",
       "                        random_state=1),\n",
       " 'classifier__bootstrap': True,\n",
       " 'classifier__ccp_alpha': 0.0,\n",
       " 'classifier__class_weight': None,\n",
       " 'classifier__criterion': 'gini',\n",
       " 'classifier__max_depth': 50,\n",
       " 'classifier__max_features': 'sqrt',\n",
       " 'classifier__max_leaf_nodes': None,\n",
       " 'classifier__max_samples': None,\n",
       " 'classifier__min_impurity_decrease': 0.0,\n",
       " 'classifier__min_samples_leaf': 1,\n",
       " 'classifier__min_samples_split': 2,\n",
       " 'classifier__min_weight_fraction_leaf': 0.0,\n",
       " 'classifier__n_estimators': 300,\n",
       " 'classifier__n_jobs': None,\n",
       " 'classifier__oob_score': False,\n",
       " 'classifier__random_state': 1,\n",
       " 'classifier__verbose': 0,\n",
       " 'classifier__warm_start': False}"
      ]
     },
     "execution_count": 20,
     "metadata": {},
     "output_type": "execute_result"
    }
   ],
   "source": [
    "pipe = Pipeline([('classifier', RandomForestClassifier(random_state = 1))])\n",
    "\n",
    "search_space = [{'classifier': [RandomForestClassifier(random_state =1)],\n",
    "                'classifier__n_estimators': [100, 200, 250, 300, 350], \n",
    "                'classifier__max_features': ['sqrt'],\n",
    "                'classifier__max_depth': [50]}]\n",
    "classifier3 = GridSearchCV(pipe, search_space, cv = 4).fit(features_train_textblob, target_train.values.ravel())\n",
    "classifier3.best_estimator_.get_params()"
   ]
  },
  {
   "cell_type": "code",
   "execution_count": 21,
   "id": "52b4e832",
   "metadata": {},
   "outputs": [
    {
     "name": "stdout",
     "output_type": "stream",
     "text": [
      "The accuracy of the random forest classifier with a max depth of 50 was 89.47%.\n"
     ]
    }
   ],
   "source": [
    "results3 = classifier3.predict(features_train_textblob)\n",
    "print(f\"The accuracy of the random forest classifier with a max depth of 50 was \"\\\n",
    "      f\"{round(accuracy_score(results3, target_train)*100, 2)}%.\")"
   ]
  },
  {
   "cell_type": "code",
   "execution_count": 22,
   "id": "6849cd14",
   "metadata": {},
   "outputs": [
    {
     "name": "stdout",
     "output_type": "stream",
     "text": [
      "The accuracy of the random forest classifier with a max depth of 50 was 66.5%.\n"
     ]
    }
   ],
   "source": [
    "results_val3 = classifier3.predict(features_val_textblob)\n",
    "print(f\"The accuracy of the random forest classifier with a max depth of 50 was \"\\\n",
    "      f\"{round(accuracy_score(results_val3, target_val)*100, 2)}%.\")"
   ]
  },
  {
   "cell_type": "markdown",
   "id": "1eda0616",
   "metadata": {},
   "source": [
    "In the following iteration I try a max depth of 75. The final result is that there is no improvement over not controlling for the depth. After this I shall move on to a different optimization tactic."
   ]
  },
  {
   "cell_type": "code",
   "execution_count": 18,
   "id": "8f856538",
   "metadata": {},
   "outputs": [
    {
     "data": {
      "text/plain": [
       "{'memory': None,\n",
       " 'steps': [('classifier',\n",
       "   RandomForestClassifier(max_depth=75, max_features='sqrt', n_estimators=300,\n",
       "                          random_state=1))],\n",
       " 'verbose': False,\n",
       " 'classifier': RandomForestClassifier(max_depth=75, max_features='sqrt', n_estimators=300,\n",
       "                        random_state=1),\n",
       " 'classifier__bootstrap': True,\n",
       " 'classifier__ccp_alpha': 0.0,\n",
       " 'classifier__class_weight': None,\n",
       " 'classifier__criterion': 'gini',\n",
       " 'classifier__max_depth': 75,\n",
       " 'classifier__max_features': 'sqrt',\n",
       " 'classifier__max_leaf_nodes': None,\n",
       " 'classifier__max_samples': None,\n",
       " 'classifier__min_impurity_decrease': 0.0,\n",
       " 'classifier__min_samples_leaf': 1,\n",
       " 'classifier__min_samples_split': 2,\n",
       " 'classifier__min_weight_fraction_leaf': 0.0,\n",
       " 'classifier__n_estimators': 300,\n",
       " 'classifier__n_jobs': None,\n",
       " 'classifier__oob_score': False,\n",
       " 'classifier__random_state': 1,\n",
       " 'classifier__verbose': 0,\n",
       " 'classifier__warm_start': False}"
      ]
     },
     "execution_count": 18,
     "metadata": {},
     "output_type": "execute_result"
    }
   ],
   "source": [
    "pipe = Pipeline([('classifier', RandomForestClassifier(random_state = 1))])\n",
    "\n",
    "search_space = [{'classifier': [RandomForestClassifier(random_state =1)],\n",
    "                'classifier__n_estimators': [100, 200, 250, 300, 350], \n",
    "                'classifier__max_features': ['sqrt'],\n",
    "                'classifier__max_depth': [75]}]\n",
    "classifier4 = GridSearchCV(pipe, search_space, cv = 4).fit(features_train_textblob, target_train.values.ravel())\n",
    "classifier4.best_estimator_.get_params()"
   ]
  },
  {
   "cell_type": "code",
   "execution_count": 19,
   "id": "90ed4d4d",
   "metadata": {},
   "outputs": [
    {
     "name": "stdout",
     "output_type": "stream",
     "text": [
      "The accuracy of the random forest classifier with a max depth of 75 was 89.69%.\n"
     ]
    }
   ],
   "source": [
    "results4 = classifier4.predict(features_train_textblob)\n",
    "print(f\"The accuracy of the random forest classifier with a max depth of 75 was \"\\\n",
    "      f\"{round(accuracy_score(results4, target_train)*100, 2)}%.\")"
   ]
  },
  {
   "cell_type": "code",
   "execution_count": 20,
   "id": "1af37796",
   "metadata": {},
   "outputs": [
    {
     "name": "stdout",
     "output_type": "stream",
     "text": [
      "The accuracy of the random forest classifier with a max depth of 75 was 66.41%.\n"
     ]
    }
   ],
   "source": [
    "results_val4 = classifier4.predict(features_val_textblob)\n",
    "print(f\"The accuracy of the random forest classifier with a max depth of 75 was \"\\\n",
    "      f\"{round(accuracy_score(results_val4, target_val)*100, 2)}%.\")"
   ]
  },
  {
   "cell_type": "markdown",
   "id": "28d92c73",
   "metadata": {},
   "source": [
    "As I mentioned earlier, there wasn't substantial improvement despite the tuning."
   ]
  },
  {
   "cell_type": "markdown",
   "id": "00a2718a",
   "metadata": {},
   "source": [
    "Seeing the above results for the random forest classifier, I then decided to try a multinomial naive Bayes classifier. Since the multinomial naive Bayes classifier cannot accept negative values and my sentiment scores range from -1 to 1, I need to employ MinMaxScaler to change my values into strictly positive data while maintaining the information the differences in the values contain. I would ordinarily just include the naive Bayes model in the earlier grid searches, but memory errors prevent me from doing anything so robust. Instead, I simply carry it out below."
   ]
  },
  {
   "cell_type": "code",
   "execution_count": 22,
   "id": "1ebab974",
   "metadata": {},
   "outputs": [],
   "source": [
    "# Scaling data so that I have the appropriate data for the naive Bayes classifier (it cannot tolerate negatives).\n",
    "\n",
    "scaler = MinMaxScaler()\n",
    "features_train_scaled = scaler.fit_transform(features_train_textblob)\n",
    "features_val_scaled = scaler.transform(features_val_textblob)"
   ]
  },
  {
   "cell_type": "code",
   "execution_count": 25,
   "id": "0d3bd79b",
   "metadata": {},
   "outputs": [
    {
     "data": {
      "text/plain": [
       "MultinomialNB()"
      ]
     },
     "execution_count": 25,
     "metadata": {},
     "output_type": "execute_result"
    }
   ],
   "source": [
    "# Building actual model.\n",
    "\n",
    "classifier5 = MultinomialNB()\n",
    "classifier5.fit(features_train_scaled, target_train.values.ravel())"
   ]
  },
  {
   "cell_type": "markdown",
   "id": "51c43efb",
   "metadata": {},
   "source": [
    "Unfortunately the accuracy of the naive Bayes classifier is substantially lower than the random forest classifier on the training data, however its results on the validation data are so similar to the training data that it seems that it was not subject to the same overfitting that affected the random forest classifier. That being said, neither of its accuracy results were better than the random forest classifier so I will not be pursuing this type of classifier any further."
   ]
  },
  {
   "cell_type": "code",
   "execution_count": 26,
   "id": "2387447a",
   "metadata": {},
   "outputs": [
    {
     "data": {
      "text/plain": [
       "0.6024479042011978"
      ]
     },
     "execution_count": 26,
     "metadata": {},
     "output_type": "execute_result"
    }
   ],
   "source": [
    "results_nb = classifier5.predict(features_train_scaled)\n",
    "accuracy_score(results_nb, target_train)"
   ]
  },
  {
   "cell_type": "code",
   "execution_count": 27,
   "id": "a89ee5ca",
   "metadata": {},
   "outputs": [
    {
     "data": {
      "text/plain": [
       "0.6024469724848931"
      ]
     },
     "execution_count": 27,
     "metadata": {},
     "output_type": "execute_result"
    }
   ],
   "source": [
    "results_nb_val = classifier5.predict(features_val_scaled)\n",
    "accuracy_score(results_nb_val, target_val)"
   ]
  },
  {
   "cell_type": "markdown",
   "id": "a96c1c73",
   "metadata": {},
   "source": [
    "Given that my data shows an imbalance towards the target value of \"5\", I've decided that perhaps I can overcome the overfitting in my random forest model by pruning out some of the excess data pertaining to the \"5\"s. To this end I will employ random undersampling. I would ordinarily attempt to pair this with SMOTE (synthetic minority oversampling technique), but the size of my data is already at the edge of what my software can handle, so I need to avoid creating any more data. Also, given the complexity of linguistic data, I doubt whether SMOTE could synthesize reliable data points as opposed to just creating noisy data."
   ]
  },
  {
   "cell_type": "code",
   "execution_count": 18,
   "id": "12af8cb3",
   "metadata": {},
   "outputs": [],
   "source": [
    "# Rebuilding my feature and target data partitions from the undersampled data.\n",
    "\n",
    "rus = RandomUnderSampler(random_state = 1, sampling_strategy = 'majority')\n",
    "\n",
    "df_rus, target_rus = rus.fit_resample(df, target)\n",
    "\n",
    "target_rus = df_rus['review/score']\n",
    "features_rus = df_rus.drop('review/score', axis = 1)\n",
    "\n",
    "\n",
    "\n",
    "features_train_rus, features_val_rus, target_train_rus, target_val_rus = train_test_split(features_rus, \n",
    "                                                                                  target_rus, \n",
    "                                                                                  test_size = 0.50, \n",
    "                                                                                  random_state = 1, \n",
    "                                                                                  stratify = target_rus)\n",
    "features_val_rus, features_holdout_rus, target_val_rus, target_holdout_rus = train_test_split(features_val_rus, target_val_rus,\n",
    "                                                                              test_size = 0.5,\n",
    "                                                                              random_state = 1,\n",
    "                                                                              stratify = target_val_rus)\n",
    "features_train_rus_textblob = features_train_rus[['review/sentiment', \n",
    "                                          'review/summary/sentiment', \n",
    "                                          'review/helpfulness/float']]\n",
    "features_val_rus_textblob = features_val_rus[['review/sentiment', \n",
    "                                              'review/summary/sentiment', \n",
    "                                              'review/helpfulness/float']]\n",
    "features_holdout_rus_textblob = features_holdout_rus[['review/sentiment', \n",
    "                                              'review/summary/sentiment', \n",
    "                                              'review/helpfulness/float']]"
   ]
  },
  {
   "cell_type": "markdown",
   "id": "acd26130",
   "metadata": {},
   "source": [
    "Converting the target data into a dataframe. Checking the value counts of the target data to see the new distribution. It looks as though the '5' data is now in line with the '2' data in terms of size."
   ]
  },
  {
   "cell_type": "code",
   "execution_count": 19,
   "id": "7132771d",
   "metadata": {},
   "outputs": [
    {
     "data": {
      "text/plain": [
       "review/score\n",
       "1.0    100843\n",
       "2.0     75526\n",
       "3.0    127147\n",
       "4.0    292803\n",
       "5.0     75527\n",
       "dtype: int64"
      ]
     },
     "execution_count": 19,
     "metadata": {},
     "output_type": "execute_result"
    }
   ],
   "source": [
    "target_train_rus = pd.DataFrame(target_train_rus)\n",
    "target_train_rus.groupby('review/score').value_counts()"
   ]
  },
  {
   "cell_type": "markdown",
   "id": "6882ff8b",
   "metadata": {},
   "source": [
    "Running another grid search to fit the optimal model hyperparameters onto the undersampled data."
   ]
  },
  {
   "cell_type": "code",
   "execution_count": 20,
   "id": "ba7d9162",
   "metadata": {},
   "outputs": [
    {
     "data": {
      "text/plain": [
       "{'memory': None,\n",
       " 'steps': [('classifier',\n",
       "   RandomForestClassifier(max_features='sqrt', n_estimators=300, random_state=1))],\n",
       " 'verbose': False,\n",
       " 'classifier': RandomForestClassifier(max_features='sqrt', n_estimators=300, random_state=1),\n",
       " 'classifier__bootstrap': True,\n",
       " 'classifier__ccp_alpha': 0.0,\n",
       " 'classifier__class_weight': None,\n",
       " 'classifier__criterion': 'gini',\n",
       " 'classifier__max_depth': None,\n",
       " 'classifier__max_features': 'sqrt',\n",
       " 'classifier__max_leaf_nodes': None,\n",
       " 'classifier__max_samples': None,\n",
       " 'classifier__min_impurity_decrease': 0.0,\n",
       " 'classifier__min_samples_leaf': 1,\n",
       " 'classifier__min_samples_split': 2,\n",
       " 'classifier__min_weight_fraction_leaf': 0.0,\n",
       " 'classifier__n_estimators': 300,\n",
       " 'classifier__n_jobs': None,\n",
       " 'classifier__oob_score': False,\n",
       " 'classifier__random_state': 1,\n",
       " 'classifier__verbose': 0,\n",
       " 'classifier__warm_start': False}"
      ]
     },
     "execution_count": 20,
     "metadata": {},
     "output_type": "execute_result"
    }
   ],
   "source": [
    "pipe = Pipeline([('classifier', RandomForestClassifier(random_state = 1))])\n",
    "\n",
    "search_space = [{'classifier': [RandomForestClassifier(random_state =1)],\n",
    "                'classifier__n_estimators': [100, 200, 250, 300, 350], \n",
    "                'classifier__max_features': ['sqrt']}]\n",
    "classifier_rus = GridSearchCV(pipe, search_space, cv = 4).fit(features_train_rus_textblob, target_train_rus.values.ravel())\n",
    "classifier_rus.best_estimator_.get_params()"
   ]
  },
  {
   "cell_type": "code",
   "execution_count": 21,
   "id": "02881acc",
   "metadata": {},
   "outputs": [
    {
     "name": "stdout",
     "output_type": "stream",
     "text": [
      "The accuracy of the undersampled random forest classifier on the training data was 89.16%.\n"
     ]
    }
   ],
   "source": [
    "results_rus = classifier_rus.predict(features_train_rus_textblob)\n",
    "print(f\"The accuracy of the undersampled random forest classifier on the training data was \"\\\n",
    "      f\"{round(accuracy_score(results_rus, target_train_rus)*100, 2)}%.\")"
   ]
  },
  {
   "cell_type": "code",
   "execution_count": 22,
   "id": "82d73707",
   "metadata": {},
   "outputs": [
    {
     "name": "stdout",
     "output_type": "stream",
     "text": [
      "The accuracy of the undersampled random forest classifier on the validation data was 55.08%.\n"
     ]
    }
   ],
   "source": [
    "results_rus_val = classifier_rus.predict(features_val_rus_textblob)\n",
    "print(f\"The accuracy of the undersampled random forest classifier on the validation data was \"\\\n",
    "      f\"{round(accuracy_score(results_rus_val, target_val_rus)*100, 2)}%.\")"
   ]
  },
  {
   "cell_type": "markdown",
   "id": "1d07419f",
   "metadata": {},
   "source": [
    "After all of my optimization attempts, it seems that the random forest classifier is performing as well as it can. I shall now try it on the holdout (or test) data partition to see what my final, generalizable results are."
   ]
  },
  {
   "cell_type": "markdown",
   "id": "35af60d1",
   "metadata": {},
   "source": [
    "# Final Results {-}"
   ]
  },
  {
   "cell_type": "code",
   "execution_count": 44,
   "id": "259fcca7",
   "metadata": {},
   "outputs": [
    {
     "name": "stdout",
     "output_type": "stream",
     "text": [
      "The accuracy of the original random forest classifier on the holdout (test) data was 66.38%.\n"
     ]
    }
   ],
   "source": [
    "results_test_blob = classifier.predict(features_holdout_textblob)\n",
    "print(f\"The accuracy of the original random forest classifier on the holdout (test) data was \"\\\n",
    "      f\"{round(accuracy_score(results_test_blob, target_holdout)*100, 2)}%.\")"
   ]
  },
  {
   "cell_type": "markdown",
   "id": "1a07be54",
   "metadata": {},
   "source": [
    "I present the confusion matrix for the final model's results on the holdout data below, and find it to be very similar to the validation data. This is not surprising."
   ]
  },
  {
   "cell_type": "code",
   "execution_count": 45,
   "id": "1276d163",
   "metadata": {},
   "outputs": [
    {
     "data": {
      "image/png": "[encoded data removed]",
      "text/plain": [
       "<Figure size 432x288 with 1 Axes>"
      ]
     },
     "metadata": {
      "needs_background": "light"
     },
     "output_type": "display_data"
    }
   ],
   "source": [
    "class_names = [1,2,3,4,5]\n",
    "\n",
    "target_predicted = classifier.predict(features_holdout_textblob)\n",
    "\n",
    "matrix = confusion_matrix(target_holdout, target_predicted)\n",
    "\n",
    "dataframe = pd.DataFrame(matrix, index = class_names, columns = class_names)\n",
    "\n",
    "sns.heatmap(dataframe, annot = True, cbar = None, cmap ='Blues', fmt = 'g')\n",
    "plt.title(\"Confusion Matrix\"), plt.tight_layout(),\n",
    "plt.ylabel(\"True Class\"), plt.xlabel(\"Predicted Class\")\n",
    "plt.show()"
   ]
  }
 ],
 "metadata": {
  "kernelspec": {
   "display_name": "Python 3 (ipykernel)",
   "language": "python",
   "name": "python3"
  },
  "language_info": {
   "codemirror_mode": {
    "name": "ipython",
    "version": 3
   },
   "file_extension": ".py",
   "mimetype": "text/x-python",
   "name": "python",
   "nbconvert_exporter": "python",
   "pygments_lexer": "ipython3",
   "version": "3.9.12"
  }
 },
 "nbformat": 4,
 "nbformat_minor": 5
}
